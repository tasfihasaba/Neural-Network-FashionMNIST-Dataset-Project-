{
  "nbformat": 4,
  "nbformat_minor": 0,
  "metadata": {
    "colab": {
      "provenance": []
    },
    "kernelspec": {
      "name": "python3",
      "display_name": "Python 3"
    },
    "language_info": {
      "name": "python"
    },
    "accelerator": "GPU",
    "gpuClass": "standard"
  },
  "cells": [
    {
      "cell_type": "markdown",
      "metadata": {
        "id": "wWOqbZO9V36N"
      },
      "source": [
        "# FashionMNIST Project\n",
        "\n",
        "For this project, I have build a neural network classifier on the FasionMNIST dataset. The FashionMNIST dataset has a lot in common with the MNIST dataset:\n",
        "- The dataset contains 70,000 grayscale images, split into training set (60,000 images) and test set (10,000 images).\n",
        "- The resolution of images is 28 by 28 pixels.\n",
        "- There are a total of 10 target labels.\n",
        "\n",
        "<img src=\"https://tensorflow.org/images/fashion-mnist-sprite.png\" width=\"600\">"
      ]
    },
    {
      "cell_type": "code",
      "metadata": {
        "id": "ryKQmAcpV7Yh",
        "colab": {
          "base_uri": "https://localhost:8080/"
        },
        "outputId": "fcf7b55f-5a83-4a19-f577-4291fd9070e7"
      },
      "source": [
        "import numpy as np\n",
        "import matplotlib.pyplot as plt\n",
        "import tensorflow as tf\n",
        "print(\"Version: \", tf.__version__)"
      ],
      "execution_count": null,
      "outputs": [
        {
          "output_type": "stream",
          "name": "stdout",
          "text": [
            "Version:  2.9.2\n"
          ]
        }
      ]
    },
    {
      "cell_type": "code",
      "metadata": {
        "id": "z2YkOEyRV7ax"
      },
      "source": [
        "# Import the dataset\n",
        "fashion_mnist = tf.keras.datasets.fashion_mnist\n",
        "\n",
        "(train_images, train_labels), (test_images, test_labels) = fashion_mnist.load_data()"
      ],
      "execution_count": null,
      "outputs": []
    },
    {
      "cell_type": "code",
      "metadata": {
        "id": "CSm_u-O6V7dh"
      },
      "source": [
        "# Here are the list of class names\n",
        "class_names = ['T-shirt/top', 'Trouser', 'Pullover', 'Dress', 'Coat',\n",
        "               'Sandal', 'Shirt', 'Sneaker', 'Bag', 'Ankle boot']"
      ],
      "execution_count": null,
      "outputs": []
    },
    {
      "cell_type": "markdown",
      "metadata": {
        "id": "1oO38lwbV7f9"
      },
      "source": [
        "Please complete the following tasks:\n",
        "1. Scale the values to [0, 1] by dividing every value by 255.0.\n",
        "2. Use `plt.imshow()` to display the first image from the training set.\n",
        "3. Build a neural network with three layers:\n",
        "    - The first layer is a flatten layer of size 28 * 28.\n",
        "    - The second layer is a dense layer with 128 nodes, with ReLU as activation function.\n",
        "    - The last layer is a dense layer with 10 nodes with softmax activation.\n",
        "4. Compile the model, using `adam` as optimizer and `tf.keras.losses.SparseCategoricalCrossentropy()` as loss function. Use `accuracy` as performance metrics.\n",
        "5. Train the model using `train_images` and `train_labels` for 10 epochs.\n",
        "6. Evaluate the accuracy on the test set.\n",
        "7. Compute the confusion matrix over test set. Which type of prediction mistake occurs most frequently?"
      ]
    },
    {
      "cell_type": "code",
      "metadata": {
        "id": "NGAfn9ZKV7io",
        "colab": {
          "base_uri": "https://localhost:8080/"
        },
        "outputId": "0f7baa29-4898-476a-e2ff-f3906367ed5b"
      },
      "source": [
        "train_images, test_images = train_images / 255.0, test_images / 255.0\n",
        "print(train_images.shape, test_images.shape, train_labels.shape, test_labels.shape)"
      ],
      "execution_count": null,
      "outputs": [
        {
          "output_type": "stream",
          "name": "stdout",
          "text": [
            "(60000, 28, 28) (10000, 28, 28) (60000,) (10000,)\n"
          ]
        }
      ]
    },
    {
      "cell_type": "code",
      "source": [
        "idx = 123\n",
        "image = train_images[idx, :, :] \n",
        "print(\"Shape of the image:\", image.shape)\n",
        "plt.imshow(image, cmap=\"Greys\")"
      ],
      "metadata": {
        "colab": {
          "base_uri": "https://localhost:8080/",
          "height": 319
        },
        "id": "2H0LdMtyfrId",
        "outputId": "4cc45aca-077d-493f-bdff-20daf192c7ee"
      },
      "execution_count": null,
      "outputs": [
        {
          "output_type": "stream",
          "name": "stdout",
          "text": [
            "Shape of the image: (28, 28)\n"
          ]
        },
        {
          "output_type": "execute_result",
          "data": {
            "text/plain": [
              "<matplotlib.image.AxesImage at 0x7feb0ffec850>"
            ]
          },
          "metadata": {},
          "execution_count": 30
        },
        {
          "output_type": "display_data",
          "data": {
            "text/plain": [
              "<Figure size 432x288 with 1 Axes>"
            ],
            "image/png": "[encoded data removed]"
          },
          "metadata": {
            "needs_background": "light"
          }
        }
      ]
    },
    {
      "cell_type": "code",
      "source": [
        "model = tf.keras.models.Sequential([\n",
        "    tf.keras.layers.Flatten(input_shape=(28, 28)), \n",
        "    tf.keras.layers.Dense(128, activation='relu'),\n",
        "    tf.keras.layers.Dense(10, activation=\"softmax\")                                   \n",
        "])"
      ],
      "metadata": {
        "id": "gF8pSnU7gJAs"
      },
      "execution_count": null,
      "outputs": []
    },
    {
      "cell_type": "code",
      "source": [
        "ind = 1234\n",
        "pro = model(train_images[ind:ind+2]) \n",
        "print(pro)\n"
      ],
      "metadata": {
        "colab": {
          "base_uri": "https://localhost:8080/"
        },
        "id": "qKGUZreLmtwX",
        "outputId": "c97afbd0-c4eb-4963-d3c4-64ce4d663391"
      },
      "execution_count": null,
      "outputs": [
        {
          "output_type": "stream",
          "name": "stdout",
          "text": [
            "tf.Tensor(\n",
            "[[0.02647399 0.17056286 0.06899049 0.10697915 0.02470008 0.12708098\n",
            "  0.08073147 0.15516877 0.06535836 0.17395386]\n",
            " [0.06837548 0.10996656 0.08485672 0.09040853 0.07442552 0.09340221\n",
            "  0.1079322  0.13557684 0.11990286 0.11515305]], shape=(2, 10), dtype=float32)\n"
          ]
        }
      ]
    },
    {
      "cell_type": "code",
      "source": [
        "loss_func = tf.keras.losses.SparseCategoricalCrossentropy()\n",
        "loss_func(train_labels[ind:(ind+2)], pro).numpy()"
      ],
      "metadata": {
        "colab": {
          "base_uri": "https://localhost:8080/"
        },
        "id": "kh4r9juKntS1",
        "outputId": "fc4e06b2-aac5-4e77-acc5-e62578675100"
      },
      "execution_count": null,
      "outputs": [
        {
          "output_type": "execute_result",
          "data": {
            "text/plain": [
              "2.549355"
            ]
          },
          "metadata": {},
          "execution_count": 33
        }
      ]
    },
    {
      "cell_type": "code",
      "source": [
        "model.compile(optimizer='sgd',\n",
        "              loss=loss_func,\n",
        "              metrics=['accuracy'])"
      ],
      "metadata": {
        "id": "gUVdsxHMpNET"
      },
      "execution_count": null,
      "outputs": []
    },
    {
      "cell_type": "code",
      "source": [
        "history = model.fit(train_images, train_labels, epochs=10)"
      ],
      "metadata": {
        "colab": {
          "base_uri": "https://localhost:8080/"
        },
        "id": "rOdWSfuyos7q",
        "outputId": "9afebfcf-3208-475e-c085-95318dd00e07"
      },
      "execution_count": null,
      "outputs": [
        {
          "output_type": "stream",
          "name": "stdout",
          "text": [
            "Epoch 1/10\n",
            "1875/1875 [==============================] - 5s 2ms/step - loss: 0.7502 - accuracy: 0.7627\n",
            "Epoch 2/10\n",
            "1875/1875 [==============================] - 5s 2ms/step - loss: 0.5114 - accuracy: 0.8266\n",
            "Epoch 3/10\n",
            "1875/1875 [==============================] - 5s 3ms/step - loss: 0.4667 - accuracy: 0.8390\n",
            "Epoch 4/10\n",
            "1875/1875 [==============================] - 4s 2ms/step - loss: 0.4417 - accuracy: 0.8465\n",
            "Epoch 5/10\n",
            "1875/1875 [==============================] - 4s 2ms/step - loss: 0.4239 - accuracy: 0.8538\n",
            "Epoch 6/10\n",
            "1875/1875 [==============================] - 7s 4ms/step - loss: 0.4094 - accuracy: 0.8581\n",
            "Epoch 7/10\n",
            "1875/1875 [==============================] - 6s 3ms/step - loss: 0.3989 - accuracy: 0.8616\n",
            "Epoch 8/10\n",
            "1875/1875 [==============================] - 4s 2ms/step - loss: 0.3887 - accuracy: 0.8646\n",
            "Epoch 9/10\n",
            "1875/1875 [==============================] - 5s 2ms/step - loss: 0.3793 - accuracy: 0.8666\n",
            "Epoch 10/10\n",
            "1875/1875 [==============================] - 4s 2ms/step - loss: 0.3717 - accuracy: 0.8704\n"
          ]
        }
      ]
    },
    {
      "cell_type": "code",
      "source": [
        "model.evaluate(test_images, test_labels)"
      ],
      "metadata": {
        "id": "GHEs0GL8phvV",
        "colab": {
          "base_uri": "https://localhost:8080/"
        },
        "outputId": "1f779311-bf91-4d53-b87e-6660e37617e5"
      },
      "execution_count": null,
      "outputs": [
        {
          "output_type": "stream",
          "name": "stdout",
          "text": [
            "313/313 [==============================] - 1s 3ms/step - loss: 0.4161 - accuracy: 0.8515\n"
          ]
        },
        {
          "output_type": "execute_result",
          "data": {
            "text/plain": [
              "[0.4160538613796234, 0.8514999747276306]"
            ]
          },
          "metadata": {},
          "execution_count": 36
        }
      ]
    },
    {
      "cell_type": "code",
      "source": [
        "predictions = model.predict(test_images)\n",
        "classes = np.argmax(predictions, axis=1)\n",
        "\n",
        "\n",
        "from sklearn.metrics import confusion_matrix\n",
        "matrix = confusion_matrix(test_labels, classes)\n",
        "print(matrix)"
      ],
      "metadata": {
        "colab": {
          "base_uri": "https://localhost:8080/"
        },
        "id": "f_eeCl0mqr1S",
        "outputId": "1ed2b77f-ce61-4d15-82e7-ca88e7d48ef1"
      },
      "execution_count": null,
      "outputs": [
        {
          "output_type": "stream",
          "name": "stdout",
          "text": [
            "313/313 [==============================] - 0s 2ms/step\n",
            "[[826   5  11  50   1   4  91   0  12   0]\n",
            " [  2 961   4  25   2   0   5   0   1   0]\n",
            " [ 18   5 816  16  58   1  81   0   5   0]\n",
            " [ 21  13  12 892  22   0  34   0   6   0]\n",
            " [  1   2 177  52 633   1 127   0   7   0]\n",
            " [  0   0   0   1   0 935   0  45   2  17]\n",
            " [148   2 109  45  43   1 632   0  20   0]\n",
            " [  0   0   0   0   0  32   0 952   0  16]\n",
            " [  4   1   9   9   3   3  21   6 944   0]\n",
            " [  0   0   0   0   0  15   0  60   1 924]]\n"
          ]
        }
      ]
    }
  ]
}